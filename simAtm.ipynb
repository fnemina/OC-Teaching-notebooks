{
 "cells": [
  {
   "cell_type": "markdown",
   "metadata": {},
   "source": [
    "# Simulador de atmósfera"
   ]
  },
  {
   "cell_type": "code",
   "execution_count": 1,
   "metadata": {},
   "outputs": [],
   "source": [
    "import numpy as np\n",
    "import matplotlib.pyplot as plt\n",
    "from ipywidgets import interact, interactive, fixed, interact_manual, AppLayout, GridspecLayout, Layout\n",
    "import ipywidgets as widgets\n",
    "from IPython.display import clear_output\n",
    "from tqdm.notebook import tqdm\n",
    "import pyOSOAA"
   ]
  },
  {
   "cell_type": "code",
   "execution_count": 2,
   "metadata": {},
   "outputs": [],
   "source": [
    "list_satellite = np.load('list_satellite.npy',allow_pickle='TRUE').item()\n",
    "list_satellite[None] = None"
   ]
  },
  {
   "cell_type": "code",
   "execution_count": 3,
   "metadata": {},
   "outputs": [],
   "source": [
    "list_levels = {\"Tope de la atmósfera\":1,\"Tope del océano\":3}\n",
    "list_aerosols = {\"Troposférico\":1,\n",
    "                 \"Urbano\":2,\n",
    "                 \"Maritimo\":3,\n",
    "                 \"Costero\":4}"
   ]
  },
  {
   "cell_type": "code",
   "execution_count": 4,
   "metadata": {},
   "outputs": [],
   "source": [
    "def simulate(satellite=\"seawifs\", sun=30, view=0, phi=90, level=1, chl=1, aero=3, rh=80, aot=0.1, wind=0, ap=False):\n",
    "    s = pyOSOAA.OSOAA()\n",
    "\n",
    "    # Oceano\n",
    "    s.phyto.chl = chl\n",
    "    s.sea.depth = 100\n",
    "    s.sea.botalb = 0\n",
    "    if chl == 0:\n",
    "        s = pyOSOAA.osoaahelpers.ConfigureOcean(s, ocean_type=\"black\")\n",
    "\n",
    "    # Superficie\n",
    "    s.sea.wind = wind\n",
    "    s.sea.surfalb = 0\n",
    "\n",
    "    # Modelo de aerosoles de Shetle and Fenn\n",
    "    s.aer.SetModel(model=2, sfmodel=aero, rh=rh)\n",
    "    s.aer.aotref = aot\n",
    "\n",
    "    # Geometria de observacion\n",
    "    s.view.phi = phi\n",
    "    s.ang.thetas = sun\n",
    "    view = view\n",
    "\n",
    "    s.view.level = level\n",
    "    \n",
    "    if ap is True:\n",
    "        s.ap.SetMot(0)\n",
    "    # Corremos el código\n",
    "\n",
    "    rho = []\n",
    "    for wa in tqdm(list_satellite[satellite], leave=False):\n",
    "        if ap is True:\n",
    "            s.ap.SetMot(0)\n",
    "        s.wa = wa/1e3\n",
    "        s.run()\n",
    "        rho = np.append(rho, np.interp(view, s.outputs.vsvza.vza, s.outputs.vsvza.I))\n",
    "        \n",
    "    return list_satellite[satellite], rho\n",
    "\n",
    "def click(b):\n",
    "    i = 1\n",
    "    total = toa.value+too.value+aerosol.value+rayleigh.value+2*glint.value\n",
    "    if total > 0:\n",
    "        if toa.value:\n",
    "            print(f\"Simulación {i} de {total}...\", end=\"\\r\")\n",
    "            wl, rtoa = simulate(satellite=satellite.value, level=1, \n",
    "                           chl=chl.value, aero=aero.value, rh=rh.value,\n",
    "                           aot=aot.value, wind=wind.value,\n",
    "                           sun=sun.value, view=view.value, phi=phi.value)\n",
    "            i = i+1\n",
    "        \n",
    "        if rayleigh.value:\n",
    "            print(f\"Simulación {i} de {total}...\", end=\"\\r\")\n",
    "            wl, rray = simulate(satellite=satellite.value, level=1, \n",
    "                               chl=0, aero=3, rh=80,\n",
    "                               aot=0, wind=0,\n",
    "                               sun=sun.value, view=view.value, phi=phi.value)\n",
    "            i = i+1\n",
    "        \n",
    "        if aerosol.value:\n",
    "            print(f\"Simulación {i} de {total}...\", end=\"\\r\")\n",
    "            wl, raer = simulate(satellite=satellite.value, level=1, \n",
    "                               chl=0, aero=aero.value, rh=rh.value,\n",
    "                               aot=aot.value, wind=0, ap=True,\n",
    "                               sun=sun.value, view=view.value, phi=phi.value)\n",
    "            i = i+1\n",
    "        \n",
    "        if too.value:\n",
    "            print(f\"Simulación {i} de {total}...\", end=\"\\r\")\n",
    "            wl, rtoo = simulate(satellite=satellite.value, level=3, \n",
    "                           chl=chl.value, aero=aero.value, rh=rh.value,\n",
    "                           aot=aot.value, wind=wind.value,\n",
    "                           sun=sun.value, view=view.value, phi=phi.value)\n",
    "            i = i+1\n",
    "            \n",
    "        if glint.value:\n",
    "            print(f\"Simulación {i} de {total}...\", end=\"\\r\")\n",
    "            wl, tmpNO = simulate(satellite=satellite.value, level=1, \n",
    "                           chl=0, aero=aero.value, rh=rh.value,\n",
    "                           aot=aot.value, wind=0,\n",
    "                           sun=sun.value, view=view.value, phi=phi.value)\n",
    "            i = i+1\n",
    "            print(f\"Simulación {i} de {total}...\", end=\"\\r\")\n",
    "            wl, tmpSI = simulate(satellite=satellite.value, level=1, \n",
    "                           chl=0, aero=aero.value, rh=rh.value,\n",
    "                           aot=aot.value, wind=wind.value,\n",
    "                           sun=sun.value, view=view.value, phi=phi.value)\n",
    "            rgli = tmpSI-tmpNO\n",
    "            i = i+1\n",
    "    clear_output(wait=True)\n",
    "    display(grid, button)\n",
    "    \n",
    "    if total > 0:\n",
    "        if toa.value:\n",
    "            plt.plot(wl, rtoa,'o-C0', label=r\"$\\rho_{t}$\")\n",
    "        \n",
    "        if rayleigh.value:\n",
    "            plt.plot(wl, rray,'o-C1', label=r\"$\\rho_{r}$\")\n",
    "        \n",
    "        if aerosol.value:\n",
    "            plt.plot(wl, raer,'o-C3', label=r\"$\\rho_{A}$\")\n",
    "        \n",
    "        if too.value:\n",
    "            plt.plot(wl, rtoo,'o-C2', label=r\"$\\rho_{s}$\")\n",
    "            \n",
    "        if glint.value:\n",
    "            plt.plot(wl, rgli,'o-C4', label=r\"$T\\rho_{g}$\")\n",
    "            \n",
    "        plt.xlim(400,900)\n",
    "        plt.ylim(bottom=0)\n",
    "        plt.xlabel(r\"$\\lambda$ [nm]\")\n",
    "        plt.ylabel(r\"$\\rho$\")\n",
    "\n",
    "        plt.legend()\n",
    "        plt.show()\n"
   ]
  },
  {
   "cell_type": "code",
   "execution_count": 5,
   "metadata": {},
   "outputs": [
    {
     "data": {
      "application/vnd.jupyter.widget-view+json": {
       "model_id": "6f55a03715b0441d8d19a4a0b40b97ed",
       "version_major": 2,
       "version_minor": 0
      },
      "text/plain": [
       "GridspecLayout(children=(Dropdown(description='Satélite', layout=Layout(grid_area='widget001'), options=('seaw…"
      ]
     },
     "metadata": {},
     "output_type": "display_data"
    },
    {
     "data": {
      "application/vnd.jupyter.widget-view+json": {
       "model_id": "40c3133069fd452abd293adcbebcc66c",
       "version_major": 2,
       "version_minor": 0
      },
      "text/plain": [
       "Button(description='Run', style=ButtonStyle())"
      ]
     },
     "metadata": {},
     "output_type": "display_data"
    },
    {
     "name": "stdout",
     "output_type": "stream",
     "text": [
      "Simulación 1 de 6...\r"
     ]
    },
    {
     "data": {
      "application/vnd.jupyter.widget-view+json": {
       "model_id": "",
       "version_major": 2,
       "version_minor": 0
      },
      "text/plain": [
       "HBox(children=(FloatProgress(value=0.0, max=8.0), HTML(value='')))"
      ]
     },
     "metadata": {},
     "output_type": "display_data"
    },
    {
     "name": "stdout",
     "output_type": "stream",
     "text": [
      "\r",
      "Simulación 2 de 6...\r"
     ]
    },
    {
     "data": {
      "application/vnd.jupyter.widget-view+json": {
       "model_id": "",
       "version_major": 2,
       "version_minor": 0
      },
      "text/plain": [
       "HBox(children=(FloatProgress(value=0.0, max=8.0), HTML(value='')))"
      ]
     },
     "metadata": {},
     "output_type": "display_data"
    },
    {
     "name": "stdout",
     "output_type": "stream",
     "text": [
      "\r",
      "Simulación 3 de 6...\r"
     ]
    },
    {
     "data": {
      "application/vnd.jupyter.widget-view+json": {
       "model_id": "",
       "version_major": 2,
       "version_minor": 0
      },
      "text/plain": [
       "HBox(children=(FloatProgress(value=0.0, max=8.0), HTML(value='')))"
      ]
     },
     "metadata": {},
     "output_type": "display_data"
    },
    {
     "name": "stdout",
     "output_type": "stream",
     "text": [
      "\r",
      "Simulación 4 de 6...\r"
     ]
    },
    {
     "data": {
      "application/vnd.jupyter.widget-view+json": {
       "model_id": "8b59effac631454d8e2e1d889258eaae",
       "version_major": 2,
       "version_minor": 0
      },
      "text/plain": [
       "HBox(children=(FloatProgress(value=0.0, max=8.0), HTML(value='')))"
      ]
     },
     "metadata": {},
     "output_type": "display_data"
    }
   ],
   "source": [
    "satellite=widgets.Dropdown(options=list_satellite.keys(), description=\"Satélite\");\n",
    "\n",
    "chl = widgets.BoundedFloatText(value=5, min=0.001, max=100, description=\"Chla [mg/m3]\");\n",
    "wind = widgets.BoundedFloatText(value=0, min=0, max=30, description=\"W [m/s]\");\n",
    "\n",
    "aero = widgets.Dropdown(options=list_aerosols, value=3, description=\"Aerosol\");\n",
    "rh = widgets.BoundedIntText(value=80, min=0, max=100, description=\"RH [%]\");\n",
    "aot = widgets.BoundedFloatText(value=0.1, min=0, max=1, description=\"AOT\");\n",
    "\n",
    "view = widgets.BoundedIntText(value=0, min=0, max=45, description=r\"$\\theta [^\\circ]$\");\n",
    "sun = widgets.BoundedIntText(value=30, min=0, max=65, description=r\"$\\theta_0[^\\circ]$\");\n",
    "phi = widgets.BoundedIntText(value=90, min=0, max=270, description=r\"$\\phi[^\\circ]$\");\n",
    "\n",
    "toa = widgets.Checkbox(description=\"Mostrar TOA\", value=True)\n",
    "too = widgets.Checkbox(description=\"Mostrar TOO\")\n",
    "rayleigh = widgets.Checkbox(description=\"Mostrar Rayleigh\")\n",
    "aerosol = widgets.Checkbox(description=\"Mostrar aerosol\")\n",
    "glint = widgets.Checkbox(description=\"Mostrar glint\")\n",
    "\n",
    "button=widgets.Button(description='Run')\n",
    "\n",
    "grid = GridspecLayout(5, 3)\n",
    "\n",
    "grid[0, 0] = satellite; grid[1, 0] = chl; grid[1, 1] = wind;\n",
    "grid[2, 0] = aero; grid[3, 0] = rh; grid[4, 0] = aot;\n",
    "grid[2, 1] = view; grid[3, 1] = sun; grid[4, 1] = phi;\n",
    "grid[0,2] = toa; grid[1,2] = too; grid[2,2] = rayleigh; grid[3,2] = aerosol; grid[4,2] = glint\n",
    "\n",
    "#grid[:, 0].layout.height = 'auto'\n",
    "display(grid, button)\n",
    "button.on_click(click)"
   ]
  },
  {
   "cell_type": "code",
   "execution_count": null,
   "metadata": {},
   "outputs": [],
   "source": []
  }
 ],
 "metadata": {
  "kernelspec": {
   "display_name": "Python 3",
   "language": "python",
   "name": "python3"
  },
  "language_info": {
   "codemirror_mode": {
    "name": "ipython",
    "version": 3
   },
   "file_extension": ".py",
   "mimetype": "text/x-python",
   "name": "python",
   "nbconvert_exporter": "python",
   "pygments_lexer": "ipython3",
   "version": "3.7.6"
  }
 },
 "nbformat": 4,
 "nbformat_minor": 4
}
