{
 "cells": [
  {
   "cell_type": "markdown",
   "metadata": {},
   "source": [
    "# Reflectancia del água y clorofila"
   ]
  },
  {
   "cell_type": "markdown",
   "metadata": {},
   "source": [
    "En este notebook explorará el comportamiento de la reflectancia saliente del agua al variar la concentración de clorofila."
   ]
  },
  {
   "cell_type": "markdown",
   "metadata": {},
   "source": [
    "## Introduccion a python"
   ]
  },
  {
   "cell_type": "markdown",
   "metadata": {},
   "source": [
    "Si nunca uso un notebook de jupyter es muy sencillo. Hay celdas con texto, como esta, y celdas con codigo, como la de abajo.\n",
    "\n",
    "Para ejecutar una celda con código haga click en ella y luego en `>|run` en la barra de herramientas o `ctrl+enter`."
   ]
  },
  {
   "cell_type": "code",
   "execution_count": 1,
   "metadata": {},
   "outputs": [
    {
     "data": {
      "text/plain": [
       "4"
      ]
     },
     "execution_count": 1,
     "metadata": {},
     "output_type": "execute_result"
    }
   ],
   "source": [
    "2+2"
   ]
  },
  {
   "cell_type": "markdown",
   "metadata": {},
   "source": [
    "La siguiente celda es importante, ya que carga todas las herramientas que utilizará. Haga click en `>|run` o `ctrl+enter`"
   ]
  },
  {
   "cell_type": "code",
   "execution_count": 2,
   "metadata": {},
   "outputs": [],
   "source": [
    "import numpy as np\n",
    "import matplotlib.pyplot as plt\n",
    "from scipy.interpolate import interp1d, interpn\n",
    "\n",
    "from ipywidgets import interact, interactive, fixed, interact_manual\n",
    "import ipywidgets as widgets"
   ]
  },
  {
   "cell_type": "markdown",
   "metadata": {},
   "source": [
    "La siguiente celda configura las funciones y tablas de datos que utilizará durante la simulación"
   ]
  },
  {
   "cell_type": "code",
   "execution_count": 3,
   "metadata": {},
   "outputs": [],
   "source": [
    "chl_range = np.logspace(-3,2,11)\n",
    "sed_range = np.array([0,1,10,100,1000])\n",
    "\n",
    "wl = np.linspace(405,700,20)\n",
    "wl = np.append(wl, [750, 865, 900])\n",
    "\n",
    "c = np.round(np.random.uniform(0,5),1); s = 0\n",
    "\n",
    "rho_arr = np.load(\"rho_arr.npy\")\n",
    "\n",
    "def f(chl, sed):\n",
    "    return interpn((chl_range, sed_range), rho_arr[:,:,0,0,:], (chl,sed))[0]\n",
    "\n",
    "list_satellite = np.load('list_satellite.npy',allow_pickle='TRUE').item()\n",
    "list_satellite[None] = None\n",
    "\n",
    "list_data = np.load('list_data.npy',allow_pickle='TRUE').item()\n",
    "\n",
    "def plt_f(chl, sed=0, satellite=\"czcs\", data=None, compute=False, text=False):\n",
    "    if data is not None:\n",
    "        plt.plot(list_satellite[\"seawifs\"],list_data[data], 'ko')\n",
    "    if compute is True:\n",
    "        if satellite is not None:\n",
    "            rho = interp1d(wl, f(chl, sed), fill_value=\"extrapolate\")(list_satellite[satellite])\n",
    "            plt.plot(list_satellite[satellite], rho, 'ko')\n",
    "\n",
    "    elif compute == \"data\":\n",
    "        if satellite is not None:\n",
    "            plt.plot(list_satellite[satellite], interp1d(wl, f(c, 0), fill_value=\"extrapolate\")(list_satellite[satellite]), 'ko')\n",
    "\n",
    "    plt.plot(wl, f(chl, sed))\n",
    "    plt.xlabel(rf\"$\\lambda$ [nm]\"), plt.ylim(bottom=-0.003, top=0.063), plt.ylabel(rf\"$\\rho$\")\n",
    "    plt.show()\n",
    "    if text is True:\n",
    "        rho = interp1d(wl, f(chl, sed), fill_value=\"extrapolate\")(list_satellite[satellite])\n",
    "        if satellite is not None:\n",
    "            print(\"wl[nm]\", end='\\t')\n",
    "            for i in range(list_satellite[satellite].size):\n",
    "                print(f\"   {list_satellite[satellite][i]}\", end='\\t')\n",
    "            print(\"\")\n",
    "            print(\"rho \", end='\\t')\n",
    "            for i in range(list_satellite[satellite].size):\n",
    "                print(f\"{np.round(rho[i],4)}\", end='\\t')\n",
    "    return None"
   ]
  },
  {
   "cell_type": "markdown",
   "metadata": {},
   "source": [
    "## Agua y clorofila"
   ]
  },
  {
   "cell_type": "markdown",
   "metadata": {},
   "source": [
    "la concetración de clorofila que tenemos en agua va a producir que cambie la firma espectral."
   ]
  },
  {
   "cell_type": "code",
   "execution_count": 4,
   "metadata": {},
   "outputs": [
    {
     "data": {
      "image/png": "[encoded data removed]",
      "text/plain": [
       "<Figure size 432x288 with 1 Axes>"
      ]
     },
     "metadata": {
      "needs_background": "light"
     },
     "output_type": "display_data"
    }
   ],
   "source": [
    "for c in [0.001,0.01,0.1,1,10,100]:\n",
    "    plt.plot(wl, f(c, 0), label=rf\"{c} $mg/m^3$\")\n",
    "plt.legend();plt.xlabel(rf\"$\\lambda$ [nm]\");plt.ylabel(rf\"$\\rho$\");plt.show()"
   ]
  },
  {
   "cell_type": "markdown",
   "metadata": {},
   "source": [
    "### Actividad 1: explore la firma espectral para distintas concentraciones de clorofila."
   ]
  },
  {
   "cell_type": "code",
   "execution_count": null,
   "metadata": {},
   "outputs": [],
   "source": [
    "interact(plt_f, chl = widgets.BoundedFloatText(value=5, min=0.001, max=100, description=\"Chla [mg/m3]\"), \n",
    "                sed = fixed(0), data=fixed(None), compute=fixed(False), text=fixed(False),\n",
    "                satellite=fixed(None));"
   ]
  },
  {
   "cell_type": "markdown",
   "metadata": {},
   "source": [
    "### Actividad 2 : encuentre que contenido de clorofila reproduce los datos CZCS"
   ]
  },
  {
   "cell_type": "code",
   "execution_count": null,
   "metadata": {},
   "outputs": [],
   "source": [
    "interact(plt_f, chl = widgets.BoundedFloatText(value=5, min=0.001, max=100, description=\"Chla [mg/m3]\"), \n",
    "                sed=fixed(0),data=fixed(None), compute=fixed(\"data\"),text=fixed(False),\n",
    "                satellite=fixed(\"czcs\"));"
   ]
  },
  {
   "cell_type": "markdown",
   "metadata": {},
   "source": [
    "### Actividad 3: encuentre que contenido de clorofila reproduce los datos de seawifs"
   ]
  },
  {
   "cell_type": "code",
   "execution_count": null,
   "metadata": {},
   "outputs": [],
   "source": [
    "interact(plt_f, chl = widgets.BoundedFloatText(value=5, min=0.001, max=100, description=\"Chla [mg/m3]\"), \n",
    "                sed = fixed(0), data=fixed(None), compute=fixed(\"data\"), text=fixed(False),\n",
    "                        satellite=widgets.Dropdown(options=list_satellite.keys(), description=\"Satélite\"));"
   ]
  },
  {
   "cell_type": "markdown",
   "metadata": {},
   "source": [
    "### Actividad 4: encuentre que contenido de clorofila que reproduce los datos de seawifs"
   ]
  },
  {
   "cell_type": "code",
   "execution_count": null,
   "metadata": {},
   "outputs": [],
   "source": [
    "interact(plt_f, chl = widgets.BoundedFloatText(value=5, min=0.001, max=100, description=\"Chla [mg/m3]\"), \n",
    "                sed = fixed(0), data=widgets.Dropdown(options=list_data.keys(),description=\"Datos\"),\n",
    "                text=fixed(False), compute=fixed(\"data\"), satellite=fixed(None));"
   ]
  },
  {
   "cell_type": "markdown",
   "metadata": {},
   "source": [
    "### Adicional 1: Puede ahora trabajar tanto con la variable concentración de clorofila como concentración de sedimientos"
   ]
  },
  {
   "cell_type": "code",
   "execution_count": null,
   "metadata": {},
   "outputs": [],
   "source": [
    "interact(plt_f, chl = widgets.BoundedFloatText(value=5, min=0.001, max=100, description=\"Chla [mg/m3]\"), \n",
    "                sed = widgets.BoundedFloatText(value=0, min=0.0, max=1e3, description=\"Sed [mg/l]\"), \n",
    "                data=fixed(None), compute=widgets.Checkbox(description=\"Mostrar reflectancias\"),\n",
    "                text=widgets.Checkbox(description=\"Imprimir reflectancias\"),\n",
    "                satellite=widgets.Dropdown(options=list_satellite.keys(), description=\"Satélite\"));"
   ]
  }
 ],
 "metadata": {
  "kernelspec": {
   "display_name": "Python 3",
   "language": "python",
   "name": "python3"
  },
  "language_info": {
   "codemirror_mode": {
    "name": "ipython",
    "version": 3
   },
   "file_extension": ".py",
   "mimetype": "text/x-python",
   "name": "python",
   "nbconvert_exporter": "python",
   "pygments_lexer": "ipython3",
   "version": "3.7.6"
  }
 },
 "nbformat": 4,
 "nbformat_minor": 4
}
