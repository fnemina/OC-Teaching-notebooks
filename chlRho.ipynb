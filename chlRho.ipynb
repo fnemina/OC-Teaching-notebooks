{
 "cells": [
  {
   "cell_type": "markdown",
   "metadata": {},
   "source": [
    "# Plot the water leaving reflectance "
   ]
  },
  {
   "cell_type": "code",
   "execution_count": 4,
   "metadata": {},
   "outputs": [],
   "source": [
    "import numpy as np\n",
    "import matplotlib.pyplot as plt\n",
    "from scipy.interpolate import interp1d, interpn\n",
    "\n",
    "from ipywidgets import interact, interactive, fixed, interact_manual\n",
    "import ipywidgets as widgets"
   ]
  },
  {
   "cell_type": "code",
   "execution_count": 11,
   "metadata": {},
   "outputs": [],
   "source": [
    "chl_range = np.logspace(-3,2,11)\n",
    "sed_range = np.array([0,1,10,100,1000])\n",
    "ys_range = np.array([0])\n",
    "det_range = np.array([0])\n",
    "\n",
    "wl = np.linspace(405,700,20)\n",
    "wl = np.append(wl, [750, 865, 900])\n",
    "\n",
    "rho_arr = np.load(\"rho_arr.npy\")\n",
    "\n",
    "def f(chl, sed):\n",
    "    return interpn((chl_range, sed_range), rho_arr[:,:,0,0,:], (chl,sed))[0]\n",
    "\n",
    "sea_wl = np.array([412., 443., 490., 510., 555., 670., 765., 865.])\n",
    "c = np.round(np.random.uniform(0,10),1)\n",
    "s = np.round(np.random.uniform(0,15),1)*10\n",
    "sea = interp1d(wl, f(c, s))(sea_wl)\n"
   ]
  },
  {
   "cell_type": "code",
   "execution_count": 14,
   "metadata": {},
   "outputs": [
    {
     "data": {
      "application/vnd.jupyter.widget-view+json": {
       "model_id": "064147c429a248fd816dcc588046881e",
       "version_major": 2,
       "version_minor": 0
      },
      "text/plain": [
       "interactive(children=(FloatSlider(value=5.0, description='chl', max=10.0, min=0.001), FloatSlider(value=0.0, d…"
      ]
     },
     "metadata": {},
     "output_type": "display_data"
    },
    {
     "data": {
      "text/plain": [
       "<function __main__.plt_f(chl, sed=0)>"
      ]
     },
     "execution_count": 14,
     "metadata": {},
     "output_type": "execute_result"
    }
   ],
   "source": [
    "def plt_f(chl, sed=0):\n",
    "    plt.plot(sea_wl, sea, 'ko')\n",
    "    plt.plot(wl, f(chl, sed))\n",
    "    plt.xlabel(rf\"$\\lambda$ [nm]\")\n",
    "    plt.ylim(bottom=-0.003, top=0.05)\n",
    "    plt.ylabel(rf\"$\\rho$\")\n",
    "\n",
    "interact(plt_f, chl = widgets.FloatSlider(value=5, min=0.001, max=10, step=0.1), sed = widgets.FloatSlider(value=0, min=0, max=150, step=10))"
   ]
  },
  {
   "cell_type": "code",
   "execution_count": null,
   "metadata": {},
   "outputs": [],
   "source": []
  }
 ],
 "metadata": {
  "kernelspec": {
   "display_name": "Python 3",
   "language": "python",
   "name": "python3"
  },
  "language_info": {
   "codemirror_mode": {
    "name": "ipython",
    "version": 3
   },
   "file_extension": ".py",
   "mimetype": "text/x-python",
   "name": "python",
   "nbconvert_exporter": "python",
   "pygments_lexer": "ipython3",
   "version": "3.7.6"
  }
 },
 "nbformat": 4,
 "nbformat_minor": 2
}
