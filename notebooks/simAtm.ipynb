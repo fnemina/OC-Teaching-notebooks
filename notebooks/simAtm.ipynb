{
 "cells": [
  {
   "cell_type": "markdown",
   "metadata": {},
   "source": [
    "# Simulador de atmósfera"
   ]
  },
  {
   "cell_type": "code",
   "execution_count": null,
   "metadata": {},
   "outputs": [],
   "source": [
    "import numpy as np\n",
    "import matplotlib.pyplot as plt\n",
    "import pandas as pd\n",
    "import os\n",
    "from functions import *\n",
    "os.environ[\"OSOAA_ROOT\"] = os.environ[\"HOME\"]+\"/RadiativeTransferCode-OSOAA\""
   ]
  },
  {
   "cell_type": "markdown",
   "metadata": {},
   "source": [
    "## Simulación y gráfico\n",
    "La celda a continuación permite correr una simulación y graficar las componentes calculadas."
   ]
  },
  {
   "cell_type": "code",
   "execution_count": null,
   "metadata": {},
   "outputs": [],
   "source": [
    "display(grid, button)\n",
    "button.on_click(click)"
   ]
  },
  {
   "cell_type": "markdown",
   "metadata": {},
   "source": [
    "## Múltiples gráficos\n",
    "La celda a continuación permite realizar múltiples gráficos para componentes de la atmósfera previamente simulados. La etiqueta es \n",
    "\n",
    "`Satélite-Chla-Viento-Modelo Aerosoles-RH-AOT-Visión-Sol-Phi`\n",
    "\n",
    "los modelos atmosféricos de aerosoles son\n",
    "\n",
    "* 1: \"Troposférico\"\n",
    "* 2: \"Urbano\"\n",
    "* 3: \"Maritimo\"\n",
    "* 4: \"Costero\"\n",
    "\n",
    "Volver a correr la celda para actualizar la base de datos"
   ]
  },
  {
   "cell_type": "code",
   "execution_count": null,
   "metadata": {},
   "outputs": [],
   "source": [
    "mul = interact(plot_multiple, kind = list_kind,plots=widgets.SelectMultiple(options=button.DataBase.keys()))"
   ]
  }
 ],
 "metadata": {
  "kernelspec": {
   "display_name": "Python 3",
   "language": "python",
   "name": "python3"
  },
  "language_info": {
   "codemirror_mode": {
    "name": "ipython",
    "version": 3
   },
   "file_extension": ".py",
   "mimetype": "text/x-python",
   "name": "python",
   "nbconvert_exporter": "python",
   "pygments_lexer": "ipython3",
   "version": "3.7.6"
  }
 },
 "nbformat": 4,
 "nbformat_minor": 4
}
