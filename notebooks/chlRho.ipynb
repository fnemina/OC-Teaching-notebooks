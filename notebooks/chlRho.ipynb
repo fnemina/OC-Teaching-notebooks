{
 "cells": [
  {
   "cell_type": "markdown",
   "metadata": {},
   "source": [
    "# Reflectancia del água y clorofila"
   ]
  },
  {
   "cell_type": "markdown",
   "metadata": {},
   "source": [
    "En este notebook explorará el comportamiento de la reflectanciadel agua al variar la concentración de clorofila."
   ]
  },
  {
   "cell_type": "markdown",
   "metadata": {},
   "source": [
    "## Introduccion a python"
   ]
  },
  {
   "cell_type": "markdown",
   "metadata": {},
   "source": [
    "Si nunca uso un notebook de Jupyter es muy sencillo. Hay celdas con texto, como ésta, y celdas con código, como la de abajo.\n",
    "\n",
    "Para ejecutar una celda con código haga click en ella y luego en `>|run` en la barra de herramientas o `ctrl+enter`."
   ]
  },
  {
   "cell_type": "code",
   "execution_count": null,
   "metadata": {},
   "outputs": [],
   "source": [
    "2+2"
   ]
  },
  {
   "cell_type": "markdown",
   "metadata": {},
   "source": [
    "La siguiente celda es importante, ya que carga todas las herramientas que utilizarán. Haga click en `>|run` o `ctrl+enter`"
   ]
  },
  {
   "cell_type": "code",
   "execution_count": null,
   "metadata": {},
   "outputs": [],
   "source": [
    "from functions import *"
   ]
  },
  {
   "cell_type": "markdown",
   "metadata": {},
   "source": [
    "## Agua y clorofila"
   ]
  },
  {
   "cell_type": "markdown",
   "metadata": {},
   "source": [
    "### Actividad 1: respuesta espectral para distintas concentraciones de clorofila."
   ]
  },
  {
   "cell_type": "code",
   "execution_count": null,
   "metadata": {},
   "outputs": [],
   "source": [
    "interact(plt_f, chl = widgets.BoundedFloatText(value=5, min=0.001, max=100, description=\"Chla [mg/m3]\"), \n",
    "                sed = fixed(0), data=fixed(None), compute=fixed(False), text=fixed(False),\n",
    "                satellite=fixed(None));"
   ]
  },
  {
   "cell_type": "markdown",
   "metadata": {},
   "source": [
    "### Actividad 2: concentración de clorofila que reproduce los datos CZCS"
   ]
  },
  {
   "cell_type": "code",
   "execution_count": null,
   "metadata": {},
   "outputs": [],
   "source": [
    "interact(plt_f, chl = widgets.BoundedFloatText(value=0.001, min=0.001, max=100, description=\"Chla [mg/m3]\"), \n",
    "                sed=fixed(0),data=fixed(None), compute=fixed(\"data\"),text=fixed(False),\n",
    "                satellite=fixed(\"czcs\"));"
   ]
  },
  {
   "cell_type": "markdown",
   "metadata": {},
   "source": [
    "### Actividad 3: concentración de clorofila que reproduce los datos seawifs"
   ]
  },
  {
   "cell_type": "code",
   "execution_count": null,
   "metadata": {},
   "outputs": [],
   "source": [
    "interact(plt_f, chl = widgets.BoundedFloatText(value=5, min=0.001, max=100, description=\"Chla [mg/m3]\"), \n",
    "                sed = fixed(0), data=fixed(None), compute=fixed(\"data\"), text=fixed(False),\n",
    "                        satellite=widgets.Dropdown(options=list_satellite.keys(), description=\"Satélite\"));"
   ]
  },
  {
   "cell_type": "markdown",
   "metadata": {},
   "source": [
    "### Evaluación 1: concentración de clorofila que reproduce los datos seawifs"
   ]
  },
  {
   "cell_type": "code",
   "execution_count": null,
   "metadata": {},
   "outputs": [],
   "source": [
    "interact(plt_f, chl = widgets.BoundedFloatText(value=5, min=0.001, max=100, description=\"Chla [mg/m3]\"), \n",
    "                sed = fixed(0), data=widgets.Dropdown(options=list_data.keys(),description=\"Datos\"),\n",
    "                text=fixed(False), compute=fixed(\"data\"), satellite=fixed(None));"
   ]
  },
  {
   "cell_type": "markdown",
   "metadata": {},
   "source": [
    "### Adicional 1: concentración de clorofila y sedimentos"
   ]
  },
  {
   "cell_type": "code",
   "execution_count": null,
   "metadata": {},
   "outputs": [],
   "source": [
    "interact(plt_f, chl = widgets.BoundedFloatText(value=5, min=0.001, max=100, description=\"Chla [mg/m3]\"), \n",
    "                sed = widgets.BoundedFloatText(value=0, min=0.0, max=1e3, description=\"Sed [mg/l]\"), \n",
    "                data=fixed(None), compute=widgets.Checkbox(description=\"Mostrar reflectancias\"),\n",
    "                text=widgets.Checkbox(description=\"Imprimir reflectancias\"),\n",
    "                satellite=widgets.Dropdown(options=list_satellite.keys(), description=\"Satélite\"));"
   ]
  }
 ],
 "metadata": {
  "kernelspec": {
   "display_name": "Python 3",
   "language": "python",
   "name": "python3"
  },
  "language_info": {
   "codemirror_mode": {
    "name": "ipython",
    "version": 3
   },
   "file_extension": ".py",
   "mimetype": "text/x-python",
   "name": "python",
   "nbconvert_exporter": "python",
   "pygments_lexer": "ipython3",
   "version": "3.7.6"
  }
 },
 "nbformat": 4,
 "nbformat_minor": 4
}
